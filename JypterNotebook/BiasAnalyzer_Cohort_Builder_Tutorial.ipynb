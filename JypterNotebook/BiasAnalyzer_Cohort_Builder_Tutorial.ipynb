{
 "cells": [
  {
   "cell_type": "markdown",
   "id": "36e4e6c9",
   "metadata": {},
   "source": [
    "# BiasAnalyzer Cohort Builder — Simple Workthrough Tutorial\n",
    "\n",
    "This tutorial shows **from scratch** how to install and use the Python DSL to define cohorts and export Cohorts for the BiasAnalyzer pipeline.\n"
   ]
  },
  {
   "cell_type": "markdown",
   "id": "b30eeebc",
   "metadata": {},
   "source": [
    "## 0) Installation / Environment\n",
    "\n",
    "From the project root (where `setup.py` lives), install the package locally in editable mode:\n",
    "\n",
    "```bash\n",
    "pip install -e .\n",
    "```\n",
    "\n",
    "If you are running the notebook outside the repo root and need to add the folder to your path:\n",
    "\n",
    "```python\n",
    "import sys\n",
    "sys.path.append('/path/to/BiasAnalyzerYAMLBuilder')  # adjust to your local path\n",
    "```\n",
    "\n",
    "Then import the core classes and operators:\n"
   ]
  },
  {
   "cell_type": "code",
   "execution_count": 1,
   "id": "7c7e9106",
   "metadata": {},
   "outputs": [
    {
     "name": "stdout",
     "output_type": "stream",
     "text": [
      "Imports OK — package is reachable.\n"
     ]
    }
   ],
   "source": [
    "# (Optional) sys.path tweak if needed:\n",
    "# import sys; sys.path.append('/path/to/BiasAnalyzerYAMLBuilder')\n",
    "\n",
    "from CohortDefinition import (\n",
    "    ConditionOccurrence,\n",
    "    VisitOccurrence,\n",
    "    DateEvent,\n",
    "    Demographics,\n",
    "    CohortCriteria,\n",
    "    AND,\n",
    "    OR,\n",
    "    BEFORE,\n",
    "    NOT,\n",
    ")\n",
    "print(\"Imports OK — package is reachable.\")"
   ]
  },
  {
   "cell_type": "markdown",
   "id": "9e9641b0",
   "metadata": {},
   "source": [
    "## 1) Concepts at a glance\n",
    "\n",
    "- **Events (leaves)** — atomic facts with `event_type` and fields:  \n",
    "  `ConditionOccurrence`, `VisitOccurrence`, `DateEvent`, …  \n",
    "- **Logic operators (strict arity)** — combine events into temporal/set logic:  \n",
    "  - `AND(A, B)`, `OR(A, B)`, `BEFORE(A, B)` \n",
    "  - `NOT(X)` \n",
    "- **CohortYAML** — container that holds:\n",
    "  - `inclusion_criteria`: `demographics`、`temporal_events`\n",
    "  - `exclusion_criteria`: `demographics`、 `temporal_events`\n",
    "  - `save_yaml('path.yaml')` to persist YAML\n"
   ]
  },
  {
   "cell_type": "markdown",
   "id": "14a13564",
   "metadata": {},
   "source": [
    "## 2) Example A — **Demographics-only cohort**\n",
    "\n",
    "**Goal:** *Males born before 2000.*\n",
    "\n",
    "**Human-readable logic**\n",
    "- **Inclusion — Demographics**: `gender = male` AND `max_birth_year = 1999`\n",
    "- **Inclusion — Temporal**: *(none)*  \n",
    "- **Exclusion**: *(none)*\n"
   ]
  },
  {
   "cell_type": "code",
   "execution_count": 2,
   "id": "0072807c",
   "metadata": {},
   "outputs": [
    {
     "name": "stdout",
     "output_type": "stream",
     "text": [
      "inclusion_criteria:\n",
      "  demographics:\n",
      "    gender: 'male'\n",
      "    max_birth_year: 1999\n",
      "\n"
     ]
    }
   ],
   "source": [
    "cohort_a = CohortCriteria(\n",
    "    demographics=Demographics(gender=\"male\", max_birth_year=1999)\n",
    ")\n",
    "print(cohort_a.to_yaml())"
   ]
  },
  {
   "cell_type": "markdown",
   "id": "2a116bcc",
   "metadata": {},
   "source": [
    "## 3) Example B — **Single condition + demographics**\n",
    "\n",
    "**Goal:** *Male patients born before 2000 with Type 2 Diabetes.*\n",
    "\n",
    "**Human-readable logic**\n",
    "- **Inclusion — Demographics**: `gender = male` AND `max_birth_year = 1999`\n",
    "- **Inclusion — Temporal**: one **condition_occurrence** = Type 2 Diabetes (concept `201826`)\n",
    "- **Exclusion**: *(none)*\n"
   ]
  },
  {
   "cell_type": "code",
   "execution_count": 3,
   "id": "2fc469cf",
   "metadata": {},
   "outputs": [
    {
     "name": "stdout",
     "output_type": "stream",
     "text": [
      "CohortYAML(temporal_blocks=[ConditionOccurrence(event_concept_id=201826, code_type=None, code=None, event_instance=None, offset=None)], demographics=Demographics(gender='male', min_birth_year=None, max_birth_year=1999), exclusion_blocks=None, exclusion_demographics=None)\n",
      "inclusion_criteria:\n",
      "  demographics:\n",
      "    gender: 'male'\n",
      "    max_birth_year: 1999\n",
      "  temporal_events:\n",
      "  - operator: 'AND'\n",
      "    events:\n",
      "    - event_type: 'condition_occurrence'\n",
      "      event_concept_id: 201826\n",
      "\n"
     ]
    }
   ],
   "source": [
    "t2dm = ConditionOccurrence(event_concept_id=201826)  # Type 2 Diabetes\n",
    "\n",
    "cohort_b = CohortCriteria(\n",
    "    demographics=Demographics(gender=\"male\", max_birth_year=1999),\n",
    "    temporal_blocks=[t2dm],\n",
    ")\n",
    "cohort_b.save(\"cohort_example_B.yaml\")\n",
    "print(cohort_b)\n",
    "print(cohort_b.to_yaml())\n",
    "#print(\"\\nSaved -> cohort_example_B.yaml\")"
   ]
  },
  {
   "cell_type": "markdown",
   "id": "53e24e88",
   "metadata": {},
   "source": [
    "## 4) Example C — **Set logic OR**\n",
    "\n",
    "**Goal:** *Patients with Hypertension OR Type 2 Diabetes.*\n",
    "\n",
    "**Human-readable logic**\n",
    "- **Inclusion — Temporal**: `OR( condition: 320128 , condition: 201826 )`\n",
    "- **Demographics/Exclusion**: *(none)*\n"
   ]
  },
  {
   "cell_type": "code",
   "execution_count": 4,
   "id": "2e9af9e6",
   "metadata": {},
   "outputs": [
    {
     "name": "stdout",
     "output_type": "stream",
     "text": [
      "inclusion_criteria:\n",
      "  temporal_events:\n",
      "  - operator: 'OR'\n",
      "    events:\n",
      "    - event_type: 'condition_occurrence'\n",
      "      event_concept_id: 320128\n",
      "    - event_type: 'condition_occurrence'\n",
      "      event_concept_id: 201826\n",
      "\n"
     ]
    }
   ],
   "source": [
    "htn = ConditionOccurrence(event_concept_id=320128)\n",
    "t2dm = ConditionOccurrence(event_concept_id=201826)\n",
    "\n",
    "rule_or = OR(htn, t2dm)  # strict binary OR\n",
    "\n",
    "cohort_c = CohortCriteria(temporal_blocks=[rule_or])\n",
    "cohort_c.save(\"cohort_example_C.yaml\")\n",
    "print(cohort_c.to_yaml())\n",
    "#print(\"\\nSaved -> cohort_example_C.yaml\")"
   ]
  },
  {
   "cell_type": "markdown",
   "id": "1c797578",
   "metadata": {},
   "source": [
    "## 5) Example D — **Temporal logic with window**\n",
    "\n",
    "**Goal:** *Females born 2000–2020 with “difficulty breathing” BEFORE a COVID diagnosis by 2–5 days, and the COVID diagnosis occurs between 2020‑03‑15 and 2020‑12‑11.*\n",
    "\n",
    "**Human-readable logic**\n",
    "- **Inclusion — Demographics**: `gender = female` AND `2000 ≤ birth_year ≤ 2020`\n",
    "- **Inclusion — Temporal**: two **parallel** groups  \n",
    "  - **Group [0]** *(visits OR)* — *(intentionally omitted here; see Example F for a full complex cohort)*  \n",
    "  - **Group [1]** — `BEFORE( condition:4041664 , AND( BEFORE(date:2020-03-15, condition:37311061), BEFORE(condition:37311061, date:2020-12-11) ) )` with `interval: [2, 5]`\n",
    "- **Exclusion**: *(none)*\n"
   ]
  },
  {
   "cell_type": "code",
   "execution_count": 5,
   "id": "51867d93",
   "metadata": {},
   "outputs": [
    {
     "name": "stdout",
     "output_type": "stream",
     "text": [
      "inclusion_criteria:\n",
      "  demographics:\n",
      "    gender: 'female'\n",
      "    min_birth_year: 2000\n",
      "    max_birth_year: 2020\n",
      "  temporal_events:\n",
      "  - operator: 'BEFORE'\n",
      "    events:\n",
      "    - event_type: 'condition_occurrence'\n",
      "      event_concept_id: 4041664\n",
      "    - operator: 'AND'\n",
      "      events:\n",
      "      - operator: 'BEFORE'\n",
      "        events:\n",
      "        - event_type: date\n",
      "          timestamp: '2020-03-15'\n",
      "        - event_type: 'condition_occurrence'\n",
      "          event_concept_id: 37311061\n",
      "      - operator: 'BEFORE'\n",
      "        events:\n",
      "        - event_type: 'condition_occurrence'\n",
      "          event_concept_id: 37311061\n",
      "        - event_type: date\n",
      "          timestamp: '2020-12-11'\n",
      "    interval:\n",
      "    - 2\n",
      "    - 5\n",
      "\n",
      "\n",
      "Saved -> cohort_example_D.yaml\n"
     ]
    }
   ],
   "source": [
    "dyspnea = ConditionOccurrence(event_concept_id=4041664)\n",
    "covid   = ConditionOccurrence(event_concept_id=37311061)\n",
    "start   = DateEvent(timestamp=\"2020-03-15\")\n",
    "end     = DateEvent(timestamp=\"2020-12-11\")\n",
    "\n",
    "left_bound  = BEFORE(start, covid)  # date_start BEFORE covid\n",
    "right_bound = BEFORE(covid, end)    # covid BEFORE date_end\n",
    "date_gate   = AND(left_bound, right_bound)\n",
    "\n",
    "outer = BEFORE(dyspnea, date_gate)\n",
    "outer[\"interval\"] = [2, 5]\n",
    "\n",
    "cohort_d = CohortCriteria(\n",
    "    demographics=Demographics(gender=\"female\", min_birth_year=2000, max_birth_year=2020),\n",
    "    temporal_blocks=[outer],\n",
    ")\n",
    "cohort_d.save(\"cohort_example_D.yaml\")\n",
    "print(cohort_d.to_yaml())\n",
    "print(\"\\nSaved -> cohort_example_D.yaml\")"
   ]
  },
  {
   "cell_type": "markdown",
   "id": "d14c554d",
   "metadata": {},
   "source": [
    "## 6) Example E — **Exclusion criteria**\n",
    "\n",
    "**Goal:** *Patients with Diabetes, but **exclude** those with Heart Failure or born ≥ 2010.*\n",
    "\n",
    "**Human-readable logic**\n",
    "- **Inclusion — Temporal**: condition_occurrence = Diabetes (`201826`)\n",
    "- **Exclusion — Demographics**: `min_birth_year = 2010`\n",
    "- **Exclusion — Temporal**: condition_occurrence = Heart Failure (`316139`)\n"
   ]
  },
  {
   "cell_type": "code",
   "execution_count": 6,
   "id": "0cb35ce5",
   "metadata": {},
   "outputs": [
    {
     "name": "stdout",
     "output_type": "stream",
     "text": [
      "inclusion_criteria:\n",
      "  temporal_events:\n",
      "  - operator: 'AND'\n",
      "    events:\n",
      "    - event_type: 'condition_occurrence'\n",
      "      event_concept_id: 201826\n",
      "exclusion_criteria:\n",
      "  demographics:\n",
      "    min_birth_year: 2010\n",
      "  temporal_events:\n",
      "  - operator: 'AND'\n",
      "    events:\n",
      "    - event_type: 'condition_occurrence'\n",
      "      event_concept_id: 316139\n",
      "\n",
      "\n",
      "Saved -> cohort_example_E.yaml\n"
     ]
    }
   ],
   "source": [
    "diabetes = ConditionOccurrence(event_concept_id=201826)\n",
    "hf       = ConditionOccurrence(event_concept_id=316139)\n",
    "\n",
    "cohort_e = CohortCriteria(\n",
    "    temporal_blocks=[diabetes],\n",
    "    exclusion_demographics=Demographics(min_birth_year=2010),\n",
    "    exclusion_blocks=[hf],\n",
    ")\n",
    "cohort_e.save(\"cohort_example_E.yaml\")\n",
    "print(cohort_e.to_yaml(sort_keys=False))\n",
    "print(\"\\nSaved -> cohort_example_E.yaml\")"
   ]
  },
  {
   "cell_type": "markdown",
   "id": "97faa72f",
   "metadata": {},
   "source": [
    "## 7) Example F — **Complex cohort: multiple temporal groups (teacher-style)**\n",
    "\n",
    "**Goal:** *Females born 2000–2020 who satisfy EITHER (Inpatient 2nd instance OR ER visit), AND ALSO have “difficulty breathing” BEFORE a COVID diagnosis by 2–5 days with COVID constrained between two calendar dates. Include an example exclusion block.*\n",
    "\n",
    "**Human-readable logic**\n",
    "- **Inclusion — Demographics**: `gender = female` AND `2000 ≤ birth_year ≤ 2020`\n",
    "- **Inclusion — Temporal**: **two parallel groups**  \n",
    "  - **Group [0] (OR of visits)**:\n",
    "    - `visit_occurrence(9201, event_instance=2)` **OR**\n",
    "    - `visit_occurrence(9203)`\n",
    "  - **Group [1] (BEFORE with interval + AND of two BEFOREs)**:\n",
    "    - `BEFORE( condition:4041664 , AND( BEFORE(date:2020-03-15, condition:37311061), BEFORE(condition:37311061, date:2020-12-11) ) )` with `interval: [2, 5]`\n",
    "- **Exclusion — Demographics**: `min_birth_year = 2010`\n",
    "- **Exclusion — Temporal**: condition_occurrence = Heart Failure (`316139`)\n"
   ]
  },
  {
   "cell_type": "code",
   "execution_count": 7,
   "id": "d0b02875",
   "metadata": {},
   "outputs": [
    {
     "name": "stdout",
     "output_type": "stream",
     "text": [
      "inclusion_criteria:\n",
      "  demographics:\n",
      "    gender: 'female'\n",
      "    min_birth_year: 2000\n",
      "    max_birth_year: 2020\n",
      "  temporal_events:\n",
      "  - operator: 'OR'\n",
      "    events:\n",
      "    - event_type: 'visit_occurrence'\n",
      "      event_concept_id: 9201\n",
      "      event_instance: 2\n",
      "    - event_type: 'visit_occurrence'\n",
      "      event_concept_id: 9203\n",
      "  - operator: 'BEFORE'\n",
      "    events:\n",
      "    - event_type: 'condition_occurrence'\n",
      "      event_concept_id: 4041664\n",
      "    - operator: 'AND'\n",
      "      events:\n",
      "      - operator: 'BEFORE'\n",
      "        events:\n",
      "        - event_type: date\n",
      "          timestamp: '2020-03-15'\n",
      "        - event_type: 'condition_occurrence'\n",
      "          event_concept_id: 37311061\n",
      "      - operator: 'BEFORE'\n",
      "        events:\n",
      "        - event_type: 'condition_occurrence'\n",
      "          event_concept_id: 37311061\n",
      "        - event_type: date\n",
      "          timestamp: '2020-12-11'\n",
      "    interval:\n",
      "    - 2\n",
      "    - 5\n",
      "exclusion_criteria:\n",
      "  demographics:\n",
      "    min_birth_year: 2010\n",
      "  temporal_events:\n",
      "  - operator: 'AND'\n",
      "    events:\n",
      "    - event_type: 'condition_occurrence'\n",
      "      event_concept_id: 316139\n",
      "\n",
      "\n",
      "Saved -> cohort_example_F.yaml\n"
     ]
    }
   ],
   "source": [
    "# Group [0]: OR(visits)\n",
    "ip_2nd = VisitOccurrence(event_concept_id=9201, event_instance=2)\n",
    "er     = VisitOccurrence(event_concept_id=9203)\n",
    "group0 = OR(ip_2nd, er)\n",
    "\n",
    "# Group [1]: BEFORE + interval; right operand is AND(BEFORE(start, covid), BEFORE(covid, end))\n",
    "dyspnea = ConditionOccurrence(event_concept_id=4041664)\n",
    "covid   = ConditionOccurrence(event_concept_id=37311061)\n",
    "start   = DateEvent(timestamp=\"2020-03-15\")\n",
    "end     = DateEvent(timestamp=\"2020-12-11\")\n",
    "\n",
    "b_left  = BEFORE(start, covid)\n",
    "b_right = BEFORE(covid, end)\n",
    "date_and = AND(b_left, b_right)\n",
    "\n",
    "group1 = BEFORE(dyspnea, date_and)\n",
    "group1[\"interval\"] = [2, 5]\n",
    "\n",
    "hf_excl = ConditionOccurrence(event_concept_id=316139)\n",
    "\n",
    "cohort_f = CohortCriteria(\n",
    "    demographics=Demographics(gender=\"female\", min_birth_year=2000, max_birth_year=2020),\n",
    "    temporal_blocks=[group0, group1],\n",
    "    exclusion_demographics=Demographics(min_birth_year=2010),\n",
    "    exclusion_blocks=[hf_excl],\n",
    ")\n",
    "cohort_f.save(\"cohort_example_F.yaml\")\n",
    "print(cohort_f.to_yaml(sort_keys=False))\n",
    "print(\"\\nSaved -> cohort_example_F.yaml\")"
   ]
  },
  {
   "cell_type": "markdown",
   "id": "9700808f",
   "metadata": {},
   "source": [
    "## 9) Wrap-up\n",
    "\n",
    "You now know how to:\n",
    "- Define **demographics**, **events**, and compose **logic** with strict arity\n",
    "- Build **inclusion** and **exclusion** blocks\n",
    "- Export YAML via `save_yaml(...)`\n",
    "- Create complex cohorts with **multiple parallel temporal groups**\n",
    "\n",
    "**Tip:** Keep operators at the **group** level, and make sure every group’s `events` are **leaf events** (or well-formed subgroups), never mixing levels.\n"
   ]
  }
 ],
 "metadata": {
  "kernelspec": {
   "display_name": "base",
   "language": "python",
   "name": "python3"
  },
  "language_info": {
   "codemirror_mode": {
    "name": "ipython",
    "version": 3
   },
   "file_extension": ".py",
   "mimetype": "text/x-python",
   "name": "python",
   "nbconvert_exporter": "python",
   "pygments_lexer": "ipython3",
   "version": "3.13.5"
  }
 },
 "nbformat": 4,
 "nbformat_minor": 5
}
