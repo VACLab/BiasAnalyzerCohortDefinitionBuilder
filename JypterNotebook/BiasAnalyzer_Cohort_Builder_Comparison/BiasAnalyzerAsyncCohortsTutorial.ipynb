{
 "cells": [
  {
   "cell_type": "markdown",
   "id": "fdc0d263",
   "metadata": {},
   "source": [
    "# Using BiasAnalyzer for Asynchronous Cohort Creation and Exploration\n",
    "\n",
    "This tutorial demonstrates how to use the `BiasAnalyzer` package to create multiple cohorts asynchronously for exploration, which can improve performance and responsiveness when working with large datasets or complex cohort definitions. It complements the [Cohort Exploration Tutorial](./BiasAnalyzerCohortsTutorial.ipynb), following a similar workflow but optimized for performance by introducing asynchronous processing.\n",
    "\n",
    "---\n",
    "\n",
    "### Overview\n",
    "\n",
    "**Objective**:  \n",
    "Show how to define and create multiple cohorts using asynchronous execution to improve responsiveness and performance when working with large or complex datasets.\n",
    "\n",
    "**Before You Begin**:  \n",
    "The `BiasAnalyzer` package is currently in active development and has not yet been officially released on PyPI.\n",
    "You can install it in one of the two ways:\n",
    "\n",
    "- **Install from GitHub (recommended during development)**:\n",
    "```bash\n",
    "pip install git+https://github.com/vaclab/BiasAnalyzer.git\n",
    "```\n",
    "- **Install from PyPI (once the pacakge is officially released)**:\n",
    "```bash\n",
    "pip install biasanalyzer\n",
    "```\n",
    "\n",
    "For full setup and usage instructions, refer to the [README](https://github.com/VACLab/BiasAnalyzer/blob/main/README.md).\n",
    "\n",
    "---\n"
   ]
  },
  {
   "cell_type": "markdown",
   "id": "bb028875",
   "metadata": {},
   "source": [
    "### Preparation for asynchronous cohort creation\n",
    "**Preparation step 1**: Import the `BIAS` class from the `api` module of the `BiasAnalyzer` package, create an object `bias` of the `BIAS` class, specify OMOP CDM database configurations on the `bias` object, and set OMOP CDM database to enable connection to the database. Refer to the [Cohort Exploration Tutorial](./BiasAnalyzerCohortsTutorial.ipynb) for more details."
   ]
  },
  {
   "cell_type": "code",
   "execution_count": 1,
   "id": "6dc76f46",
   "metadata": {},
   "outputs": [
    {
     "name": "stdout",
     "output_type": "stream",
     "text": [
      "configuration specified in /Users/sherrylu/Documents/UNC/26Fall/VAC Lab/BiasAnalyzerYAMLBuilder/JypterNotebook/BiasAnalyzer_Cohort_Builder_Comparison/test_config.yaml loaded successfully\n",
      "Connected to the OMOP CDM database (read-only).\n",
      "Cohort Definition table created.\n",
      "Cohort table created.\n"
     ]
    }
   ],
   "source": [
    "from biasanalyzer.api import BIAS\n",
    "import os\n",
    "\n",
    "# Get the directory of the config file path and load the file\n",
    "base_dir = os.getcwd()\n",
    "config_file = os.path.join(base_dir, \"test_config.yaml\")\n",
    "\n",
    "bias = BIAS()\n",
    "\n",
    "bias.set_config(config_file)\n",
    "\n",
    "bias.set_root_omop()"
   ]
  },
  {
   "cell_type": "markdown",
   "id": "8731e481",
   "metadata": {},
   "source": [
    "**Preparation step 2**: Import `BackgroundResult` class and the `run_in_background` function from the `background.threading_utils` module of the `BiasAnalyzer` package to support asynchronous cohort creation."
   ]
  },
  {
   "cell_type": "code",
   "execution_count": 2,
   "id": "31cac333",
   "metadata": {},
   "outputs": [],
   "source": [
    "from biasanalyzer.background.threading_utils import BackgroundResult, run_in_background"
   ]
  },
  {
   "cell_type": "markdown",
   "id": "22edda35",
   "metadata": {},
   "source": [
    "**Now that you have connected to your OMOP CDM database and imported the necessary utilities for asynchronous processing, you are ready to create cohorts asynchronously using the `BiasAnalyzer` APIs.** The rest of this notebook illustrates how to create both a baseline and a study cohort asynchronously, and explore and compare them once they are ready. With asynchronous execution, you don't need to wait for cohort creation to finish --- you can continue running the subsequent cells and explore the data as it becomes available.\n",
    "\n",
    "---\n",
    "\n",
    "### Asynchronous cohort creation\n",
    "**Baseline cohort creation**: To create a baseline cohort of young female patients asynchronously, use the `run_in_background()` function to run `create_cohort(cohort_name, cohort_description, query_or_yaml_file, created_by)` method in a background thread. You'll pass the target function as the first argument, the cohort creation target function input arguments as the next four arguments, a `BackgroundResult` object via the `result_holder` optional parameter to store the created baseline cohort result, and a `delay` value (e.g., 120 seconds) to simulate asynchronous execution of long-running process for testing purposes. The created baseline cohort will be identical to the one created in the [Cohort Exploration Tutorial](./BiasAnalyzerCohortsTutorial.ipynb), except that the cohort creation now runs asychronously in a background thread."
   ]
  },
  {
   "cell_type": "code",
   "execution_count": null,
   "id": "c9c9c7c5",
   "metadata": {},
   "outputs": [
    {
     "name": "stdout",
     "output_type": "stream",
     "text": [
      "/Users/sherrylu/Documents/UNC/26Fall/VAC Lab/BiasAnalyzerYAMLBuilder/JypterNotebook/BiasAnalyzer_Cohort_Builder_Comparison\n",
      "[*] Background task started...\n",
      "Baseline cohort creation running in background...\n"
     ]
    },
    {
     "data": {
      "application/vnd.jupyter.widget-view+json": {
       "model_id": "f1c123e8eece445ba41220e8ace17ba6",
       "version_major": 2,
       "version_minor": 0
      },
      "text/plain": [
       "Cohort creation:   0%|          | 0/3 [00:00<?, ?stage/s]"
      ]
     },
     "metadata": {},
     "output_type": "display_data"
    },
    {
     "name": "stdout",
     "output_type": "stream",
     "text": [
      "specified cohort creation configuration file does not exist. Make sure the configuration file name with path is specified correctly.\n",
      "[✓] Background task completed.\n"
     ]
    }
   ],
   "source": [
    "# Create baseline cohort result holder\n",
    "baseline_result = BackgroundResult()\n",
    "#print(base_dir)\n",
    "\n",
    "# Start background task to run create_cohort() method for a baseline cohort in a background thread\n",
    "baseline_thread = run_in_background(\n",
    "    bias.create_cohort,\n",
    "    \"Young female patients\",\n",
    "    \"A cohort of female patients born between 2000 and 2020\",\n",
    "    os.path.join(base_dir, \"/test_yaml/test_cohort_creation_condition_occurrence_config_baseline.yaml\"),\n",
    "    \"system\",\n",
    "    result_holder=baseline_result,\n",
    "    delay=120  # simulate 2 minutes delay for async testing\n",
    ")\n",
    "\n",
    "print(\"Baseline cohort creation running in background...\")"
   ]
  },
  {
   "cell_type": "markdown",
   "id": "f7c7bbca-11ea-43b4-81a8-1c37dfa5b41e",
   "metadata": {},
   "source": [
    "———————————————\n",
    "\n",
    "**Study cohort creation**: To create a study cohort of young female COVID patients asynchronously, use the `run_in_background()` function to run `create_cohort(cohort_name, cohort_description, query_or_yaml_file, created_by)` function in a background thread. You'll pass the target function as the first argument, the cohort creation target function input arguments as the next four arguments, a `BackgroundResult` object via the `result_holder` optional parameter to store the created baseline cohort result, and a `delay` value (e.g., 120 seconds) to simulate asynchronous execution of long-running process for testing purposes. The created study cohort will be identical to the one created in the [Cohort Exploration Tutorial](./BiasAnalyzerCohortsTutorial.ipynb), except that the cohort creation now runs asychronously in a background thread."
   ]
  },
  {
   "cell_type": "code",
   "execution_count": null,
   "id": "9a52ab5f-57a8-4942-8a03-ec86651e919e",
   "metadata": {
    "tags": []
   },
   "outputs": [],
   "source": [
    "# Create study cohort result holder\n",
    "study_result = BackgroundResult()\n",
    "\n",
    "# Start background task to run create_cohort() function for a study cohort in a background thread\n",
    "study_thread = run_in_background(\n",
    "    bias.create_cohort,\n",
    "    \"Young COVID female patients\",\n",
    "    \"Young COVID female patients\",\n",
    "    '/home/hongyi/BiasAnalyzer/tests/assets/cohort_creation/test_cohort_creation_condition_occurrence_config_study.yaml',\n",
    "    \"system\",\n",
    "    result_holder=study_result,\n",
    "    delay=120  # simulate 2 minutes delay for async testing\n",
    ")\n",
    "\n",
    "print(\"Study cohort creation running in background...\")"
   ]
  },
  {
   "cell_type": "markdown",
   "id": "30bbc765-b324-42ef-ab2e-97d34e728b3d",
   "metadata": {},
   "source": [
    "---\n",
    "\n",
    "### Cohort exploration when available\n",
    "**Exploring the baseline cohort**: To explore the baseline cohort once it's available, check the `ready` property of the `baseline_result` --- the `BackgroundResult` object provided as the `result_holder` during asynchronous cohort creation. If the result is ready, verify whether the background process completed successfully by checking the `error` property of the `baseline_result`. If no error occurred, you can retrieve the created baseline cohort object and explore it, just as demonstrated in the [Cohort Exploration Tutorial](./BiasAnalyzerCohortsTutorial.ipynb)."
   ]
  },
  {
   "cell_type": "code",
   "execution_count": null,
   "id": "11d73a3e-f43a-45f5-bb9c-acf54dc480eb",
   "metadata": {},
   "outputs": [],
   "source": [
    "if baseline_result.ready:\n",
    "    if baseline_result.error:\n",
    "        print(f\"Baseline cohort creation failed: {baseline_result.error}\")\n",
    "    else:\n",
    "        baseline_cohort = baseline_result.value\n",
    "        baseline_cohort_def = baseline_cohort.metadata\n",
    "        print(f\"Baseline cohort created with metadata: {baseline_cohort_def}\")\n",
    "        baseline_cohort_data = baseline_cohort.data\n",
    "        baseline_cohort_stats = baseline_cohort.get_stats()\n",
    "        print(f\"Baseline cohort created with stats: {baseline_cohort_stats}\")\n",
    "else:\n",
    "    print(\"Still creating baseline cohort...\")"
   ]
  },
  {
   "cell_type": "markdown",
   "id": "e06df5e3-6cb9-4bbb-842c-c8e987657edb",
   "metadata": {},
   "source": [
    "———————————————\n",
    "\n",
    "**Exploring the study cohort**: To explore the study cohort once it's available, check the `ready` property of the `study_result` --- the `BackgroundResult` object provided as the `result_holder` during asynchronous cohort creation. If the result is ready, verify whether the background process completed successfully by checking the `error` property of the `study_result`. If no error occurred, you can retrieve the created study cohort object and explore it, just as demonstrated in the [Cohort Exploration Tutorial](./BiasAnalyzerCohortsTutorial.ipynb)."
   ]
  },
  {
   "cell_type": "code",
   "execution_count": null,
   "id": "b1415805-b065-40b8-b2cd-6db6f5f9ca41",
   "metadata": {
    "tags": []
   },
   "outputs": [],
   "source": [
    "if study_result.ready:\n",
    "    if study_result.error:\n",
    "        print(f\"Study cohort creation failed: {study_result.error}\")\n",
    "    else:\n",
    "        study_cohort = study_result.value\n",
    "        study_cohort_def = study_cohort.metadata\n",
    "        print(f\"Study cohort created with metadata: {study_cohort_def}\")\n",
    "        study_cohort_data = study_cohort.data\n",
    "        study_cohort_stats = study_cohort.get_stats()\n",
    "        print(f\"Study cohort created with stats: {study_cohort_stats}\")\n",
    "else:\n",
    "    print(\"Still creating study cohort...\")"
   ]
  },
  {
   "cell_type": "markdown",
   "id": "56de0456-104f-4d4b-9f8e-1a65a07a6a2e",
   "metadata": {},
   "source": [
    "---\n",
    "\n",
    "### Cohort comparison when available\n",
    "To compare the baseline and study cohorts once they are available, check the `ready` property of both `baseline_result` and `study_result` --- the `BackgroundResult` objects passed as `result_holder` during asynchronous cohort creation. If both results are ready, you can retrieve and compare the cohorts using the same approach demonstrated in the [Cohort Exploration Tutorial](./BiasAnalyzerCohortsTutorial.ipynb)."
   ]
  },
  {
   "cell_type": "code",
   "execution_count": null,
   "id": "0d03cf95-3c68-4eee-be41-5482dea68b84",
   "metadata": {
    "tags": []
   },
   "outputs": [],
   "source": [
    "# compare the baseline and user study cohorts\n",
    "if baseline_result.ready and study_result.ready:\n",
    "    print(f\"first 5 patient in baseline cohort data: {baseline_cohort_data[:5]}\")\n",
    "    print(f\"first 5 patient in study cohort data: {study_cohort_data[:5]}\")\n",
    "    baseline_cohort_age_stats = baseline_cohort.get_stats(\"age\")\n",
    "    print(f'the baseline cohort age stats: {baseline_cohort_age_stats}')\n",
    "    baseline_cohort_gender_stats = baseline_cohort.get_stats(\"gender\")\n",
    "    print(f'the baseline cohort gender stats: {baseline_cohort_gender_stats}')\n",
    "    study_cohort_age_stats = study_cohort.get_stats(\"age\")\n",
    "    print(f'the study cohort age stats: {study_cohort_age_stats}')\n",
    "    study_cohort_gender_stats = study_cohort.get_stats(\"gender\")\n",
    "    print(f'the study cohort gender stats: {study_cohort_gender_stats}')\n",
    "    result = bias.compare_cohorts(baseline_cohort_def['id'], study_cohort_def['id'])\n",
    "    print(result)"
   ]
  },
  {
   "cell_type": "markdown",
   "id": "d8e53808-cac2-41c7-9d60-f7a3b661ff6f",
   "metadata": {},
   "source": [
    "---\n",
    "\n",
    "### Final cleanup to ensure database connections are closed"
   ]
  },
  {
   "cell_type": "code",
   "execution_count": null,
   "id": "128c7b02-faef-4a35-97a6-c92baa5a37dd",
   "metadata": {},
   "outputs": [],
   "source": [
    "bias.cleanup()"
   ]
  },
  {
   "cell_type": "markdown",
   "id": "e3ea28f8",
   "metadata": {},
   "source": [
    "### ✅ Summary\n",
    "\n",
    "In this tutorial, you learned how to use the BiasAnalyzer package to create a baseline and a study cohort asynchronously for improved performance and responsiveness when working with large datasets or complex cohort definitions. For testing purposes, a `delay` optional parameter is introduced in the `run_in_background()` function to simulate asynchronous execution of long-running process. This tutorial complements the [Cohort Exploration Tutorial](./BiasAnalyzerCohortsTutorial.ipynb), following a similar workflow but optimized for performance by introducing asynchronous processing.\n",
    "  \n",
    "For more information, refer to the [BiasAnalyzer GitHub repo](https://github.com/VACLab/BiasAnalyzer) and the [README file](https://github.com/VACLab/BiasAnalyzer/blob/main/README.md).\n"
   ]
  }
 ],
 "metadata": {
  "kernelspec": {
   "display_name": "Python 3",
   "language": "python",
   "name": "python3"
  },
  "language_info": {
   "codemirror_mode": {
    "name": "ipython",
    "version": 3
   },
   "file_extension": ".py",
   "mimetype": "text/x-python",
   "name": "python",
   "nbconvert_exporter": "python",
   "pygments_lexer": "ipython3",
   "version": "3.9.11"
  }
 },
 "nbformat": 4,
 "nbformat_minor": 5
}
