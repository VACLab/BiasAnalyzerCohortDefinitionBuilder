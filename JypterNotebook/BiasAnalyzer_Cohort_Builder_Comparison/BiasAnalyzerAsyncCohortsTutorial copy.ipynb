{
 "cells": [
  {
   "cell_type": "markdown",
   "id": "fdc0d263",
   "metadata": {},
   "source": [
    "# Using BiasAnalyzer for Asynchronous Cohort Creation and Exploration\n",
    "\n",
    "This tutorial demonstrates how to use the `BiasAnalyzer` package to create multiple cohorts asynchronously for exploration, which can improve performance and responsiveness when working with large datasets or complex cohort definitions. It complements the [Cohort Exploration Tutorial](./BiasAnalyzerCohortsTutorial.ipynb), following a similar workflow but optimized for performance by introducing asynchronous processing.\n",
    "\n",
    "---\n",
    "\n",
    "### Overview\n",
    "\n",
    "**Objective**:  \n",
    "Show how to define and create multiple cohorts using asynchronous execution to improve responsiveness and performance when working with large or complex datasets.\n",
    "\n",
    "**Before You Begin**:  \n",
    "The `BiasAnalyzer` package is currently in active development and has not yet been officially released on PyPI.\n",
    "You can install it in one of the two ways:\n",
    "\n",
    "- **Install from GitHub (recommended during development)**:\n",
    "```bash\n",
    "pip install git+https://github.com/vaclab/BiasAnalyzerCore.git\n",
    "```\n",
    "- **Install from PyPI (once the pacakge is officially released)**:\n",
    "```bash\n",
    "pip install biasanalyzer\n",
    "```\n",
    "\n",
    "For full setup and usage instructions, refer to the [README](https://github.com/VACLab/BiasAnalyzerCore/blob/main/README.md).\n",
    "\n",
    "---\n"
   ]
  },
  {
   "cell_type": "markdown",
   "id": "bb028875",
   "metadata": {},
   "source": [
    "### Preparation for asynchronous cohort creation\n",
    "**Preparation step 1**: Import the `BIAS` class from the `api` module of the `BiasAnalyzer` package, create an object `bias` of the `BIAS` class, specify OMOP CDM database configurations on the `bias` object, and set OMOP CDM database to enable connection to the database. Refer to the [Cohort Exploration Tutorial](./BiasAnalyzerCohortsTutorial.ipynb) for more details."
   ]
  },
  {
   "cell_type": "code",
   "execution_count": 1,
   "id": "6dc76f46",
   "metadata": {},
   "outputs": [
    {
     "name": "stdout",
     "output_type": "stream",
     "text": [
      "configuration specified in /Users/sherrylu/Documents/UNC/26Fall/VAC Lab/BiasAnalyzerYAMLBuilder/JypterNotebook/BiasAnalyzer_Cohort_Builder_Comparison/config_duckdb.yaml loaded successfully\n",
      "Connected to the DuckDB database: /Users/sherrylu/Documents/UNC/26Fall/VAC Lab/data/synpuf_100k_omop_54.duckdb.\n",
      "Cohort Definition table created.\n",
      "Cohort table created.\n"
     ]
    }
   ],
   "source": [
    "from biasanalyzer.api import BIAS\n",
    "\n",
    "bias = BIAS()\n",
    "\n",
    "bias.set_config('/Users/sherrylu/Documents/UNC/26Fall/VAC Lab/BiasAnalyzerYAMLBuilder/JypterNotebook/BiasAnalyzer_Cohort_Builder_Comparison/config_duckdb.yaml')\n",
    "\n",
    "bias.set_root_omop()"
   ]
  },
  {
   "cell_type": "markdown",
   "id": "8731e481",
   "metadata": {},
   "source": [
    "**Preparation step 2**: Import `BackgroundResult` class and the `run_in_background` function from the `background.threading_utils` module of the `BiasAnalyzer` package to support asynchronous cohort creation."
   ]
  },
  {
   "cell_type": "code",
   "execution_count": 2,
   "id": "31cac333",
   "metadata": {},
   "outputs": [],
   "source": [
    "from biasanalyzer.background.threading_utils import BackgroundResult, run_in_background"
   ]
  },
  {
   "cell_type": "markdown",
   "id": "22edda35",
   "metadata": {},
   "source": [
    "**Now that you have connected to your OMOP CDM database and imported the necessary utilities for asynchronous processing, you are ready to create cohorts asynchronously using the `BiasAnalyzer` APIs.** The rest of this notebook illustrates how to create both a baseline and a study cohort asynchronously, and explore and compare them once they are ready. With asynchronous execution, you don't need to wait for cohort creation to finish --- you can continue running the subsequent cells and explore the data as it becomes available.\n",
    "\n",
    "---\n",
    "\n",
    "### Asynchronous cohort creation\n",
    "**Baseline cohort creation**: To create a baseline cohort of young female patients asynchronously, use the `run_in_background()` function to run `create_cohort(cohort_name, cohort_description, query_or_yaml_file, created_by)` method in a background thread. You'll pass the target function as the first argument, the cohort creation target function input arguments as the next four arguments, a `BackgroundResult` object via the `result_holder` optional parameter to store the created baseline cohort result, and a `delay` value (e.g., 120 seconds) to simulate asynchronous execution of long-running process for testing purposes. The created baseline cohort will be identical to the one created in the [Cohort Exploration Tutorial](./BiasAnalyzerCohortsTutorial.ipynb), except that the cohort creation now runs asychronously in a background thread."
   ]
  },
  {
   "cell_type": "code",
   "execution_count": 3,
   "id": "c9c9c7c5",
   "metadata": {},
   "outputs": [
    {
     "name": "stdout",
     "output_type": "stream",
     "text": [
      "[*] Background task started...Baseline cohort creation running in background...\n",
      "\n",
      "template_path: /Library/Frameworks/Python.framework/Versions/3.9/lib/python3.9/site-packages/biasanalyzer/sql_templates\n"
     ]
    },
    {
     "data": {
      "application/vnd.jupyter.widget-view+json": {
       "model_id": "12132cfc0a614562b5cad347176a9bae",
       "version_major": 2,
       "version_minor": 0
      },
      "text/plain": [
       "Cohort creation:   0%|          | 0/3 [00:00<?, ?stage/s]"
      ]
     },
     "metadata": {},
     "output_type": "display_data"
    },
    {
     "name": "stdout",
     "output_type": "stream",
     "text": [
      "configuration specified in /Users/sherrylu/Documents/UNC/26Fall/VAC Lab/BiasAnalyzerYAMLBuilder/JypterNotebook/assets/cohort_creation/extras/diabetes_example2/cohort_creation_config_baseline_example2.yaml loaded successfully\n",
      "Cohort definition inserted successfully.\n",
      "Cohort Diabetes baseline successfully created.\n",
      "template_path: /Library/Frameworks/Python.framework/Versions/3.9/lib/python3.9/site-packages/biasanalyzer/sql_templates\n",
      "[DEBUG] Simulating long-running task with 120 seconds delay...\n",
      "cohort created successfully\n",
      "[✓] Background task completed.\n"
     ]
    }
   ],
   "source": [
    "# Create baseline cohort result holder\n",
    "baseline_result = BackgroundResult()\n",
    "\n",
    "# Start background task to run create_cohort() method for a baseline cohort in a background thread\n",
    "baseline_thread = run_in_background(\n",
    "    bias.create_cohort,\n",
    "    \"Diabetes baseline\",\n",
    "    \"A cohort of Type 2 diabetes mellitus\",\n",
    "    \"/Users/sherrylu/Documents/UNC/26Fall/VAC Lab/BiasAnalyzerYAMLBuilder/JypterNotebook/assets/cohort_creation/extras/diabetes_example2/cohort_creation_config_baseline_example2.yaml\",\n",
    "    \"system\",\n",
    "    result_holder=baseline_result,\n",
    "    delay=120  # simulate 2 minutes delay for async testing\n",
    ")\n",
    "\n",
    "print(\"Baseline cohort creation running in background...\")"
   ]
  },
  {
   "cell_type": "code",
   "execution_count": null,
   "id": "aedcbf60",
   "metadata": {},
   "outputs": [
    {
     "name": "stdout",
     "output_type": "stream",
     "text": [
      "===== Baseline cohort (Python-built) =====\n"
     ]
    },
    {
     "data": {
      "text/plain": [
       "<CohortCriteria 1 blocks>"
      ]
     },
     "execution_count": 6,
     "metadata": {},
     "output_type": "execute_result"
    }
   ],
   "source": [
    "\"\"\"\n",
    "Baseline cohort (Python-built) equivalent to `cohort_creation_config_baseline_example2.yaml`.\n",
    "\n",
    "Notes:\n",
    "- The YAML has a single temporal block: operator AND with a single condition_occurrence event (concept_id 201826).\n",
    "- We construct that shape explicitly to ensure structural equality.\n",
    "\"\"\"\n",
    "\n",
    "from pathlib import Path\n",
    "\n",
    "from CohortDefinition import (\n",
    "    ConditionOccurrence,\n",
    "    CohortCriteria,\n",
    ")\n",
    "\n",
    "# 1) Define the single clinical event (Type 2 diabetes mellitus).\n",
    "db = ConditionOccurrence(event_concept_id=201826)\n",
    "\n",
    "# 3) Assemble the cohort criteria (no demographics for this baseline).\n",
    "baseline_py = CohortCriteria(\n",
    "    temporal_blocks=[db]\n",
    ")\n",
    "\n",
    "# 4) Print YAML directly (str(cohort) emits YAML).\n",
    "print(\"===== Baseline cohort (Python-built) =====\")\n",
    "print(baseline_py)\n",
    "baseline_py\n"
   ]
  },
  {
   "cell_type": "code",
   "execution_count": 7,
   "id": "36fca61c",
   "metadata": {},
   "outputs": [
    {
     "name": "stdout",
     "output_type": "stream",
     "text": [
      "[*] Background task started...Baseline cohort creation running in background...\n",
      "\n"
     ]
    },
    {
     "data": {
      "application/vnd.jupyter.widget-view+json": {
       "model_id": "d2f31923a227482895d6038e0825a3c9",
       "version_major": 2,
       "version_minor": 0
      },
      "text/plain": [
       "Cohort creation:   0%|          | 0/3 [00:00<?, ?stage/s]"
      ]
     },
     "metadata": {},
     "output_type": "display_data"
    },
    {
     "name": "stdout",
     "output_type": "stream",
     "text": [
      "configuration specified in inclusion_criteria:\n",
      "  temporal_events:\n",
      "  - operator: 'AND'\n",
      "    events:\n",
      "    - event_type: 'condition_occurrence'\n",
      "      event_concept_id: 201826\n",
      " loaded successfully\n",
      "Cohort definition inserted successfully.\n",
      "Cohort Diabetes baseline successfully created.\n",
      "template_path: /Library/Frameworks/Python.framework/Versions/3.9/lib/python3.9/site-packages/biasanalyzer/sql_templates\n",
      "[DEBUG] Simulating long-running task with 120 seconds delay...\n",
      "cohort created successfully\n",
      "[✓] Background task completed.\n"
     ]
    }
   ],
   "source": [
    "# Create baseline cohort result holder\n",
    "baseline_result_py = BackgroundResult()\n",
    "\n",
    "# Start background task to run create_cohort() method for a baseline cohort in a background thread\n",
    "baseline_thread_py = run_in_background(\n",
    "    bias.create_cohort,\n",
    "    \"Diabetes baseline\",\n",
    "    \"A cohort of Type 2 diabetes mellitus\",\n",
    "    baseline_py,\n",
    "    \"system\",\n",
    "    result_holder=baseline_result_py,\n",
    "    delay=120  # simulate 2 minutes delay for async testing\n",
    ")\n",
    "\n",
    "print(\"Baseline cohort creation running in background...\")"
   ]
  },
  {
   "cell_type": "markdown",
   "id": "f7c7bbca-11ea-43b4-81a8-1c37dfa5b41e",
   "metadata": {},
   "source": [
    "———————————————\n",
    "\n",
    "**Study cohort creation**: To create a study cohort of young female COVID patients asynchronously, use the `run_in_background()` function to run `create_cohort(cohort_name, cohort_description, query_or_yaml_file, created_by)` function in a background thread. You'll pass the target function as the first argument, the cohort creation target function input arguments as the next four arguments, a `BackgroundResult` object via the `result_holder` optional parameter to store the created baseline cohort result, and a `delay` value (e.g., 120 seconds) to simulate asynchronous execution of long-running process for testing purposes. The created study cohort will be identical to the one created in the [Cohort Exploration Tutorial](./BiasAnalyzerCohortsTutorial.ipynb), except that the cohort creation now runs asychronously in a background thread."
   ]
  },
  {
   "cell_type": "code",
   "execution_count": null,
   "id": "9a52ab5f-57a8-4942-8a03-ec86651e919e",
   "metadata": {
    "tags": []
   },
   "outputs": [
    {
     "name": "stdout",
     "output_type": "stream",
     "text": [
      "[*] Background task started...Study cohort creation running in background...\n",
      "\n"
     ]
    },
    {
     "data": {
      "application/vnd.jupyter.widget-view+json": {
       "model_id": "54d44804ae2b4d2ebd3d4f4206f2a925",
       "version_major": 2,
       "version_minor": 0
      },
      "text/plain": [
       "Cohort creation:   0%|          | 0/3 [00:00<?, ?stage/s]"
      ]
     },
     "metadata": {},
     "output_type": "display_data"
    },
    {
     "name": "stdout",
     "output_type": "stream",
     "text": [
      "configuration specified in /Users/sherrylu/Documents/UNC/26Fall/VAC Lab/BiasAnalyzerYAMLBuilder/JypterNotebook/assets/cohort_creation/extras/diabetes_example2/cohort_creation_config_study1_example2.yaml loaded successfully\n",
      "Cohort definition inserted successfully.\n",
      "Cohort Mid or Elder Male patients with heart failure successfully created.\n",
      "template_path: /Library/Frameworks/Python.framework/Versions/3.9/lib/python3.9/site-packages/biasanalyzer/sql_templates\n",
      "[DEBUG] Simulating long-running task with 120 seconds delay...\n",
      "cohort created successfully\n",
      "[✓] Background task completed.\n"
     ]
    }
   ],
   "source": [
    "# Create study cohort result holder\n",
    "study_result = BackgroundResult()\n",
    "\n",
    "# Start background task to run create_cohort() function for a study cohort in a background thread\n",
    "study_thread = run_in_background(\n",
    "    bias.create_cohort,\n",
    "    \"Mid or Elder Male patients with heart failure\",\n",
    "    \"Male patients born in or before 1990 diagnosed with heart failure\",\n",
    "    '/Users/sherrylu/Documents/UNC/26Fall/VAC Lab/BiasAnalyzerYAMLBuilder/JypterNotebook/assets/cohort_creation/extras/diabetes_example2/cohort_creation_config_study1_example2.yaml',\n",
    "    \"system\",\n",
    "    result_holder=study_result,\n",
    "    delay=120  # simulate 2 minutes delay for async testing\n",
    ")\n",
    "\n",
    "print(\"Study cohort creation running in background...\")"
   ]
  },
  {
   "cell_type": "code",
   "execution_count": 20,
   "id": "29df2d3f",
   "metadata": {},
   "outputs": [
    {
     "name": "stdout",
     "output_type": "stream",
     "text": [
      "inclusion_criteria:\n",
      "  demographics:\n",
      "    gender: 'male'\n",
      "    max_birth_year: 1990\n",
      "  temporal_events:\n",
      "  - operator: 'AND'\n",
      "    events:\n",
      "    - event_type: 'condition_occurrence'\n",
      "      event_concept_id: 201826\n",
      "\n"
     ]
    }
   ],
   "source": [
    "from CohortDefinition import ConditionOccurrence, Demographics, CohortCriteria\n",
    "\n",
    "# 1) Define the demographics (male, born in or before 1990)\n",
    "demo = Demographics(gender=\"male\", max_birth_year=1990)\n",
    "\n",
    "# 2) Define the event: heart failure diagnosis (condition_occurrence)\n",
    "event = ConditionOccurrence(\n",
    "    event_concept_id=201826  # Heart failure concept ID\n",
    ")\n",
    "\n",
    "# 3) Build the cohort criteria (no YAML handling exposed to the user)\n",
    "study1_py = CohortCriteria(\n",
    "    demographics=demo,\n",
    "    temporal_blocks=[event],\n",
    ")\n",
    "\n",
    "print(study1_py)"
   ]
  },
  {
   "cell_type": "code",
   "execution_count": null,
   "id": "9c06dbff",
   "metadata": {},
   "outputs": [
    {
     "name": "stdout",
     "output_type": "stream",
     "text": [
      "[*] Background task started...Study cohort creation running in background...\n",
      "\n"
     ]
    },
    {
     "data": {
      "application/vnd.jupyter.widget-view+json": {
       "model_id": "7a26e31fc49c4674ac1b9420eff3291f",
       "version_major": 2,
       "version_minor": 0
      },
      "text/plain": [
       "Cohort creation:   0%|          | 0/3 [00:00<?, ?stage/s]"
      ]
     },
     "metadata": {},
     "output_type": "display_data"
    },
    {
     "name": "stdout",
     "output_type": "stream",
     "text": [
      "configuration specified in inclusion_criteria:\n",
      "  demographics:\n",
      "    gender: 'male'\n",
      "    max_birth_year: 1990\n",
      "  temporal_events:\n",
      "  - operator: 'AND'\n",
      "    events:\n",
      "    - event_type: 'condition_occurrence'\n",
      "      event_concept_id: 201826\n",
      " loaded successfully\n",
      "Cohort definition inserted successfully.\n",
      "Cohort Mid or Elder Male patients with heart failure successfully created.\n",
      "template_path: /Library/Frameworks/Python.framework/Versions/3.9/lib/python3.9/site-packages/biasanalyzer/sql_templates\n",
      "[DEBUG] Simulating long-running task with 120 seconds delay...\n",
      "cohort created successfully\n",
      "[✓] Background task completed.\n"
     ]
    }
   ],
   "source": [
    "# Create study cohort result holder\n",
    "study_result_py = BackgroundResult()\n",
    "\n",
    "# Start background task to run create_cohort() function for a study cohort in a background thread\n",
    "study_thread_py = run_in_background(\n",
    "    bias.create_cohort,\n",
    "    \"Mid or Elder Male patients with heart failure\",\n",
    "    \"Male patients born in or before 1990 diagnosed with heart failure\",\n",
    "    study1_py,\n",
    "    \"system\",\n",
    "    result_holder=study_result_py,\n",
    "    delay=120  # simulate 2 minutes delay for async testing\n",
    ")\n",
    "\n",
    "print(\"Study cohort creation running in background...\")"
   ]
  },
  {
   "cell_type": "markdown",
   "id": "30bbc765-b324-42ef-ab2e-97d34e728b3d",
   "metadata": {},
   "source": [
    "---\n",
    "\n",
    "### Cohort exploration when available\n",
    "**Exploring the baseline cohort**: To explore the baseline cohort once it's available, check the `ready` property of the `baseline_result` --- the `BackgroundResult` object provided as the `result_holder` during asynchronous cohort creation. If the result is ready, verify whether the background process completed successfully by checking the `error` property of the `baseline_result`. If no error occurred, you can retrieve the created baseline cohort object and explore it, just as demonstrated in the [Cohort Exploration Tutorial](./BiasAnalyzerCohortsTutorial.ipynb)."
   ]
  },
  {
   "cell_type": "code",
   "execution_count": 16,
   "id": "11d73a3e-f43a-45f5-bb9c-acf54dc480eb",
   "metadata": {},
   "outputs": [
    {
     "name": "stdout",
     "output_type": "stream",
     "text": [
      "Baseline cohort created with metadata: {'id': 1, 'name': 'Diabetes baseline', 'description': 'A cohort of Type 2 diabetes mellitus', 'created_date': datetime.date(2025, 10, 29), 'creation_info': 'WITH ranked_asc_condition_occurrence AS ( SELECT person_id, condition_concept_id AS concept_id, condition_start_date AS event_start_date, condition_end_date AS event_end_date, ROW_NUMBER() OVER ( PARTITION BY person_id, condition_concept_id ORDER BY condition_start_date ASC ) AS event_instance FROM condition_occurrence ), ranked_desc_condition_occurrence AS ( SELECT person_id, condition_concept_id AS concept_id, condition_start_date AS event_start_date, condition_end_date AS event_end_date, ROW_NUMBER() OVER ( PARTITION BY person_id, condition_concept_id ORDER BY condition_start_date DESC ) AS event_instance FROM condition_occurrence ), domain_qualifying_events AS ( ( SELECT person_id, event_start_date, event_end_date, event_start_date AS adjusted_start, event_end_date AS adjusted_end FROM ranked_asc_condition_occurrence WHERE concept_id = 201826 ) ), filtered_cohort AS ( SELECT c.person_id, MIN(c.adjusted_start) AS cohort_start_date, MAX(c.adjusted_end) AS cohort_end_date FROM domain_qualifying_events c JOIN person p ON c.person_id = p.person_id WHERE 1=1 GROUP BY c.person_id ) SELECT * FROM filtered_cohort f', 'created_by': 'system'}\n",
      "Baseline cohort created with stats: [{'total_count': 67365, 'earliest_start_date': datetime.date(2007, 12, 14), 'latest_start_date': datetime.date(2010, 12, 31), 'earliest_end_date': datetime.date(2008, 1, 1), 'latest_end_date': datetime.date(2010, 12, 31), 'min_duration_days': 0, 'max_duration_days': 1095, 'avg_duration_days': 479.83, 'median_duration': 540, 'stddev_duration': 319.99}]\n"
     ]
    }
   ],
   "source": [
    "if baseline_result.ready:\n",
    "    if baseline_result.error:\n",
    "        print(f\"Baseline cohort creation failed: {baseline_result.error}\")\n",
    "    else:\n",
    "        baseline_cohort = baseline_result.value\n",
    "        baseline_cohort_def = baseline_cohort.metadata\n",
    "        print(f\"Baseline cohort created with metadata: {baseline_cohort_def}\")\n",
    "        baseline_cohort_data = baseline_cohort.data\n",
    "        baseline_cohort_stats = baseline_cohort.get_stats()\n",
    "        print(f\"Baseline cohort created with stats: {baseline_cohort_stats}\")\n",
    "else:\n",
    "    print(\"Still creating baseline cohort...\")"
   ]
  },
  {
   "cell_type": "code",
   "execution_count": 26,
   "id": "4e5a9afc",
   "metadata": {},
   "outputs": [
    {
     "name": "stdout",
     "output_type": "stream",
     "text": [
      "Baseline cohort created with metadata: {'id': 2, 'name': 'Diabetes baseline', 'description': 'A cohort of Type 2 diabetes mellitus', 'created_date': datetime.date(2025, 10, 29), 'creation_info': 'WITH ranked_asc_condition_occurrence AS ( SELECT person_id, condition_concept_id AS concept_id, condition_start_date AS event_start_date, condition_end_date AS event_end_date, ROW_NUMBER() OVER ( PARTITION BY person_id, condition_concept_id ORDER BY condition_start_date ASC ) AS event_instance FROM condition_occurrence ), ranked_desc_condition_occurrence AS ( SELECT person_id, condition_concept_id AS concept_id, condition_start_date AS event_start_date, condition_end_date AS event_end_date, ROW_NUMBER() OVER ( PARTITION BY person_id, condition_concept_id ORDER BY condition_start_date DESC ) AS event_instance FROM condition_occurrence ), domain_qualifying_events AS ( ( SELECT person_id, event_start_date, event_end_date, event_start_date AS adjusted_start, event_end_date AS adjusted_end FROM ranked_asc_condition_occurrence WHERE concept_id = 201826 ) ), filtered_cohort AS ( SELECT c.person_id, MIN(c.adjusted_start) AS cohort_start_date, MAX(c.adjusted_end) AS cohort_end_date FROM domain_qualifying_events c JOIN person p ON c.person_id = p.person_id WHERE 1=1 GROUP BY c.person_id ) SELECT * FROM filtered_cohort f', 'created_by': 'system'}\n",
      "Baseline cohort created with stats: [{'total_count': 67365, 'earliest_start_date': datetime.date(2007, 12, 14), 'latest_start_date': datetime.date(2010, 12, 31), 'earliest_end_date': datetime.date(2008, 1, 1), 'latest_end_date': datetime.date(2010, 12, 31), 'min_duration_days': 0, 'max_duration_days': 1095, 'avg_duration_days': 479.83, 'median_duration': 540, 'stddev_duration': 319.99}]\n"
     ]
    }
   ],
   "source": [
    "if baseline_result_py.ready:\n",
    "    if baseline_result_py.error:\n",
    "        print(f\"Baseline cohort creation failed: {baseline_result_py.error}\")\n",
    "    else:\n",
    "        baseline_cohort_py = baseline_result_py.value\n",
    "        baseline_cohort_def_py = baseline_cohort_py.metadata\n",
    "        print(f\"Baseline cohort created with metadata: {baseline_cohort_def_py}\")\n",
    "        baseline_cohort_data_py = baseline_cohort_py.data\n",
    "        baseline_cohort_stats_py = baseline_cohort_py.get_stats()\n",
    "        print(f\"Baseline cohort created with stats: {baseline_cohort_stats_py}\")\n",
    "else:\n",
    "    print(\"Still creating baseline cohort...\")"
   ]
  },
  {
   "cell_type": "markdown",
   "id": "e06df5e3-6cb9-4bbb-842c-c8e987657edb",
   "metadata": {},
   "source": [
    "———————————————\n",
    "\n",
    "**Exploring the study cohort**: To explore the study cohort once it's available, check the `ready` property of the `study_result` --- the `BackgroundResult` object provided as the `result_holder` during asynchronous cohort creation. If the result is ready, verify whether the background process completed successfully by checking the `error` property of the `study_result`. If no error occurred, you can retrieve the created study cohort object and explore it, just as demonstrated in the [Cohort Exploration Tutorial](./BiasAnalyzerCohortsTutorial.ipynb)."
   ]
  },
  {
   "cell_type": "code",
   "execution_count": 18,
   "id": "b1415805-b065-40b8-b2cd-6db6f5f9ca41",
   "metadata": {
    "tags": []
   },
   "outputs": [
    {
     "name": "stdout",
     "output_type": "stream",
     "text": [
      "Study cohort created with metadata: {'id': 4, 'name': 'Mid or Elder Male patients with heart failure', 'description': 'Male patients born in or before 1990 diagnosed with heart failure', 'created_date': datetime.date(2025, 10, 29), 'creation_info': 'WITH ranked_asc_condition_occurrence AS ( SELECT person_id, condition_concept_id AS concept_id, condition_start_date AS event_start_date, condition_end_date AS event_end_date, ROW_NUMBER() OVER ( PARTITION BY person_id, condition_concept_id ORDER BY condition_start_date ASC ) AS event_instance FROM condition_occurrence ), ranked_desc_condition_occurrence AS ( SELECT person_id, condition_concept_id AS concept_id, condition_start_date AS event_start_date, condition_end_date AS event_end_date, ROW_NUMBER() OVER ( PARTITION BY person_id, condition_concept_id ORDER BY condition_start_date DESC ) AS event_instance FROM condition_occurrence ), domain_qualifying_events AS ( ( SELECT person_id, event_start_date, event_end_date, event_start_date AS adjusted_start, event_end_date AS adjusted_end FROM ranked_asc_condition_occurrence WHERE concept_id = 201826 ) ), filtered_cohort AS ( SELECT c.person_id, MIN(c.adjusted_start) AS cohort_start_date, MAX(c.adjusted_end) AS cohort_end_date FROM domain_qualifying_events c JOIN person p ON c.person_id = p.person_id WHERE 1=1 AND p.gender_concept_id = 8507 AND p.year_of_birth <= 1990 GROUP BY c.person_id ) SELECT * FROM filtered_cohort f', 'created_by': 'system'}\n",
      "Study cohort created with stats: [{'total_count': 28951, 'earliest_start_date': datetime.date(2007, 12, 15), 'latest_start_date': datetime.date(2010, 12, 31), 'earliest_end_date': datetime.date(2008, 1, 2), 'latest_end_date': datetime.date(2010, 12, 31), 'min_duration_days': 0, 'max_duration_days': 1092, 'avg_duration_days': 470.98, 'median_duration': 529, 'stddev_duration': 322.88}]\n"
     ]
    }
   ],
   "source": [
    "if study_result.ready:\n",
    "    if study_result.error:\n",
    "        print(f\"Study cohort creation failed: {study_result.error}\")\n",
    "    else:\n",
    "        study_cohort = study_result.value\n",
    "        study_cohort_def = study_cohort.metadata\n",
    "        print(f\"Study cohort created with metadata: {study_cohort_def}\")\n",
    "        study_cohort_data = study_cohort.data\n",
    "        study_cohort_stats = study_cohort.get_stats()\n",
    "        print(f\"Study cohort created with stats: {study_cohort_stats}\")\n",
    "else:\n",
    "    print(\"Still creating study cohort...\")"
   ]
  },
  {
   "cell_type": "code",
   "execution_count": 29,
   "id": "e4e774c2",
   "metadata": {},
   "outputs": [
    {
     "name": "stdout",
     "output_type": "stream",
     "text": [
      "Study cohort created with metadata: {'id': 5, 'name': 'Mid or Elder Male patients with heart failure', 'description': 'Male patients born in or before 1990 diagnosed with heart failure', 'created_date': datetime.date(2025, 10, 29), 'creation_info': 'WITH ranked_asc_condition_occurrence AS ( SELECT person_id, condition_concept_id AS concept_id, condition_start_date AS event_start_date, condition_end_date AS event_end_date, ROW_NUMBER() OVER ( PARTITION BY person_id, condition_concept_id ORDER BY condition_start_date ASC ) AS event_instance FROM condition_occurrence ), ranked_desc_condition_occurrence AS ( SELECT person_id, condition_concept_id AS concept_id, condition_start_date AS event_start_date, condition_end_date AS event_end_date, ROW_NUMBER() OVER ( PARTITION BY person_id, condition_concept_id ORDER BY condition_start_date DESC ) AS event_instance FROM condition_occurrence ), domain_qualifying_events AS ( ( SELECT person_id, event_start_date, event_end_date, event_start_date AS adjusted_start, event_end_date AS adjusted_end FROM ranked_asc_condition_occurrence WHERE concept_id = 201826 ) ), filtered_cohort AS ( SELECT c.person_id, MIN(c.adjusted_start) AS cohort_start_date, MAX(c.adjusted_end) AS cohort_end_date FROM domain_qualifying_events c JOIN person p ON c.person_id = p.person_id WHERE 1=1 AND p.gender_concept_id = 8507 AND p.year_of_birth <= 1990 GROUP BY c.person_id ) SELECT * FROM filtered_cohort f', 'created_by': 'system'}\n",
      "Study cohort created with stats: [{'total_count': 28951, 'earliest_start_date': datetime.date(2007, 12, 15), 'latest_start_date': datetime.date(2010, 12, 31), 'earliest_end_date': datetime.date(2008, 1, 2), 'latest_end_date': datetime.date(2010, 12, 31), 'min_duration_days': 0, 'max_duration_days': 1092, 'avg_duration_days': 470.98, 'median_duration': 529, 'stddev_duration': 322.88}]\n"
     ]
    }
   ],
   "source": [
    "if study_result_py.ready:\n",
    "    if study_result_py.error:\n",
    "        print(f\"Study cohort creation failed: {study_result_py.error}\")\n",
    "    else:\n",
    "        study_cohort_py = study_result_py.value\n",
    "        study_cohort_def_py = study_cohort_py.metadata\n",
    "        print(f\"Study cohort created with metadata: {study_cohort_def_py}\")\n",
    "        study_cohort_data_py = study_cohort_py.data\n",
    "        study_cohort_stats_py = study_cohort_py.get_stats()\n",
    "        print(f\"Study cohort created with stats: {study_cohort_stats_py}\")\n",
    "else:\n",
    "    print(\"Still creating study cohort...\")"
   ]
  },
  {
   "cell_type": "markdown",
   "id": "56de0456-104f-4d4b-9f8e-1a65a07a6a2e",
   "metadata": {},
   "source": [
    "---\n",
    "\n",
    "### Cohort comparison when available\n",
    "To compare the baseline and study cohorts once they are available, check the `ready` property of both `baseline_result` and `study_result` --- the `BackgroundResult` objects passed as `result_holder` during asynchronous cohort creation. If both results are ready, you can retrieve and compare the cohorts using the same approach demonstrated in the [Cohort Exploration Tutorial](./BiasAnalyzerCohortsTutorial.ipynb)."
   ]
  },
  {
   "cell_type": "code",
   "execution_count": 28,
   "id": "0d03cf95-3c68-4eee-be41-5482dea68b84",
   "metadata": {
    "tags": []
   },
   "outputs": [
    {
     "name": "stdout",
     "output_type": "stream",
     "text": [
      "first 5 patient in baseline cohort data: [{'subject_id': 237, 'cohort_definition_id': 1, 'cohort_start_date': datetime.date(2009, 9, 28), 'cohort_end_date': datetime.date(2010, 8, 1)}, {'subject_id': 517, 'cohort_definition_id': 1, 'cohort_start_date': datetime.date(2008, 12, 15), 'cohort_end_date': datetime.date(2010, 8, 10)}, {'subject_id': 561, 'cohort_definition_id': 1, 'cohort_start_date': datetime.date(2008, 1, 30), 'cohort_end_date': datetime.date(2008, 3, 10)}, {'subject_id': 747, 'cohort_definition_id': 1, 'cohort_start_date': datetime.date(2009, 1, 16), 'cohort_end_date': datetime.date(2009, 7, 3)}, {'subject_id': 868, 'cohort_definition_id': 1, 'cohort_start_date': datetime.date(2009, 6, 14), 'cohort_end_date': datetime.date(2009, 12, 3)}]\n",
      "first 5 patient in study cohort data: [{'subject_id': 307, 'cohort_definition_id': 4, 'cohort_start_date': datetime.date(2008, 7, 6), 'cohort_end_date': datetime.date(2010, 6, 30)}, {'subject_id': 350, 'cohort_definition_id': 4, 'cohort_start_date': datetime.date(2008, 11, 24), 'cohort_end_date': datetime.date(2010, 10, 20)}, {'subject_id': 1192, 'cohort_definition_id': 4, 'cohort_start_date': datetime.date(2008, 6, 10), 'cohort_end_date': datetime.date(2010, 11, 17)}, {'subject_id': 2733, 'cohort_definition_id': 4, 'cohort_start_date': datetime.date(2010, 4, 26), 'cohort_end_date': datetime.date(2010, 4, 26)}, {'subject_id': 2734, 'cohort_definition_id': 4, 'cohort_start_date': datetime.date(2009, 2, 21), 'cohort_end_date': datetime.date(2010, 1, 11)}]\n",
      "the baseline cohort age stats: [{'total_count': 67365, 'min_age': 25, 'max_age': 101, 'avg_age': 72.55, 'median_age': 73, 'stddev_age': 12.7}]\n",
      "the baseline cohort gender stats: [{'gender': 'male', 'gender_count': 28951, 'probability': 0.43}, {'gender': 'female', 'gender_count': 38414, 'probability': 0.57}]\n",
      "the study cohort age stats: [{'total_count': 28951, 'min_age': 25, 'max_age': 101, 'avg_age': 71.05, 'median_age': 72, 'stddev_age': 12.72}]\n",
      "the study cohort gender stats: [{'gender': 'male', 'gender_count': 28951, 'probability': 1.0}]\n",
      "[{'age_hellinger_distance': 0.048993265898613386}, {'gender_hellinger_distance': 0.5867334553012977}]\n"
     ]
    }
   ],
   "source": [
    "# compare the baseline and user study cohorts\n",
    "if baseline_result.ready and study_result.ready:\n",
    "    print(f\"first 5 patient in baseline cohort data: {baseline_cohort_data[:5]}\")\n",
    "    print(f\"first 5 patient in study cohort data: {study_cohort_data[:5]}\")\n",
    "    baseline_cohort_age_stats = baseline_cohort.get_stats(\"age\")\n",
    "    print(f'the baseline cohort age stats: {baseline_cohort_age_stats}')\n",
    "    baseline_cohort_gender_stats = baseline_cohort.get_stats(\"gender\")\n",
    "    print(f'the baseline cohort gender stats: {baseline_cohort_gender_stats}')\n",
    "    study_cohort_age_stats = study_cohort.get_stats(\"age\")\n",
    "    print(f'the study cohort age stats: {study_cohort_age_stats}')\n",
    "    study_cohort_gender_stats = study_cohort.get_stats(\"gender\")\n",
    "    print(f'the study cohort gender stats: {study_cohort_gender_stats}')\n",
    "    result = bias.compare_cohorts(baseline_cohort_def['id'], study_cohort_def['id'])\n",
    "    print(result)"
   ]
  },
  {
   "cell_type": "code",
   "execution_count": 30,
   "id": "c44f4897",
   "metadata": {},
   "outputs": [
    {
     "name": "stdout",
     "output_type": "stream",
     "text": [
      "first 5 patient in baseline cohort data: [{'subject_id': 83, 'cohort_definition_id': 2, 'cohort_start_date': datetime.date(2008, 5, 16), 'cohort_end_date': datetime.date(2010, 10, 26)}, {'subject_id': 307, 'cohort_definition_id': 2, 'cohort_start_date': datetime.date(2008, 7, 6), 'cohort_end_date': datetime.date(2010, 6, 30)}, {'subject_id': 350, 'cohort_definition_id': 2, 'cohort_start_date': datetime.date(2008, 11, 24), 'cohort_end_date': datetime.date(2010, 10, 20)}, {'subject_id': 387, 'cohort_definition_id': 2, 'cohort_start_date': datetime.date(2009, 4, 1), 'cohort_end_date': datetime.date(2010, 1, 5)}, {'subject_id': 1192, 'cohort_definition_id': 2, 'cohort_start_date': datetime.date(2008, 6, 10), 'cohort_end_date': datetime.date(2010, 11, 17)}]\n",
      "first 5 patient in study cohort data: [{'subject_id': 307, 'cohort_definition_id': 5, 'cohort_start_date': datetime.date(2008, 7, 6), 'cohort_end_date': datetime.date(2010, 6, 30)}, {'subject_id': 350, 'cohort_definition_id': 5, 'cohort_start_date': datetime.date(2008, 11, 24), 'cohort_end_date': datetime.date(2010, 10, 20)}, {'subject_id': 1192, 'cohort_definition_id': 5, 'cohort_start_date': datetime.date(2008, 6, 10), 'cohort_end_date': datetime.date(2010, 11, 17)}, {'subject_id': 2733, 'cohort_definition_id': 5, 'cohort_start_date': datetime.date(2010, 4, 26), 'cohort_end_date': datetime.date(2010, 4, 26)}, {'subject_id': 2734, 'cohort_definition_id': 5, 'cohort_start_date': datetime.date(2009, 2, 21), 'cohort_end_date': datetime.date(2010, 1, 11)}]\n",
      "the baseline cohort age stats: [{'total_count': 67365, 'min_age': 25, 'max_age': 101, 'avg_age': 72.55, 'median_age': 73, 'stddev_age': 12.7}]\n",
      "the baseline cohort gender stats: [{'gender': 'male', 'gender_count': 28951, 'probability': 0.43}, {'gender': 'female', 'gender_count': 38414, 'probability': 0.57}]\n",
      "the study cohort age stats: [{'total_count': 28951, 'min_age': 25, 'max_age': 101, 'avg_age': 71.05, 'median_age': 72, 'stddev_age': 12.72}]\n",
      "the study cohort gender stats: [{'gender': 'male', 'gender_count': 28951, 'probability': 1.0}]\n",
      "[{'age_hellinger_distance': 0.048993265898613386}, {'gender_hellinger_distance': 0.5867334553012977}]\n"
     ]
    }
   ],
   "source": [
    "# compare the baseline and user study cohorts\n",
    "if baseline_result_py.ready and study_result_py.ready:\n",
    "    print(f\"first 5 patient in baseline cohort data: {baseline_cohort_data_py[:5]}\")\n",
    "    print(f\"first 5 patient in study cohort data: {study_cohort_data_py[:5]}\")\n",
    "    baseline_cohort_age_stats_py = baseline_cohort_py.get_stats(\"age\")\n",
    "    print(f'the baseline cohort age stats: {baseline_cohort_age_stats_py}')\n",
    "    baseline_cohort_gender_stats_py = baseline_cohort.get_stats(\"gender\")\n",
    "    print(f'the baseline cohort gender stats: {baseline_cohort_gender_stats_py}')\n",
    "    study_cohort_age_stats_py = study_cohort_py.get_stats(\"age\")\n",
    "    print(f'the study cohort age stats: {study_cohort_age_stats_py}')\n",
    "    study_cohort_gender_stats_py = study_cohort_py.get_stats(\"gender\")\n",
    "    print(f'the study cohort gender stats: {study_cohort_gender_stats_py}')\n",
    "    result = bias.compare_cohorts(baseline_cohort_def_py['id'], study_cohort_def_py['id'])\n",
    "    print(result)"
   ]
  },
  {
   "cell_type": "markdown",
   "id": "d8e53808-cac2-41c7-9d60-f7a3b661ff6f",
   "metadata": {},
   "source": [
    "---\n",
    "\n",
    "### Final cleanup to ensure database connections are closed"
   ]
  },
  {
   "cell_type": "code",
   "execution_count": 31,
   "id": "128c7b02-faef-4a35-97a6-c92baa5a37dd",
   "metadata": {},
   "outputs": [
    {
     "name": "stdout",
     "output_type": "stream",
     "text": [
      "Connection to BiasDatabase closed.\n",
      "Connection to the OMOP CDM database closed.\n"
     ]
    }
   ],
   "source": [
    "bias.cleanup()"
   ]
  },
  {
   "cell_type": "markdown",
   "id": "e3ea28f8",
   "metadata": {},
   "source": [
    "### ✅ Summary\n",
    "\n",
    "In this tutorial, you learned how to use the BiasAnalyzer package to create a baseline and a study cohort asynchronously for improved performance and responsiveness when working with large datasets or complex cohort definitions. For testing purposes, a `delay` optional parameter is introduced in the `run_in_background()` function to simulate asynchronous execution of long-running process. This tutorial complements the [Cohort Exploration Tutorial](./BiasAnalyzerCohortsTutorial.ipynb), following a similar workflow but optimized for performance by introducing asynchronous processing.\n",
    "  \n",
    "For more information, refer to the [BiasAnalyzer GitHub repo](https://github.com/VACLab/BiasAnalyzerCore) and the [README file](https://github.com/VACLab/BiasAnalyzerCore/blob/main/README.md).\n"
   ]
  }
 ],
 "metadata": {
  "kernelspec": {
   "display_name": "Python 3",
   "language": "python",
   "name": "python3"
  },
  "language_info": {
   "codemirror_mode": {
    "name": "ipython",
    "version": 3
   },
   "file_extension": ".py",
   "mimetype": "text/x-python",
   "name": "python",
   "nbconvert_exporter": "python",
   "pygments_lexer": "ipython3",
   "version": "3.9.11"
  }
 },
 "nbformat": 4,
 "nbformat_minor": 5
}
