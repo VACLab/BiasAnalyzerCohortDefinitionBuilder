{
 "cells": [
  {
   "cell_type": "markdown",
   "id": "2a968ba0",
   "metadata": {},
   "source": [
    "# Cohort YAML — Print files & Recreate via Python"
   ]
  },
  {
   "cell_type": "code",
   "execution_count": 13,
   "id": "e24cb681",
   "metadata": {},
   "outputs": [
    {
     "name": "stdout",
     "output_type": "stream",
     "text": [
      "Imports OK\n"
     ]
    }
   ],
   "source": [
    "# If needed, add repo path:\n",
    "# import sys; sys.path.append('/path/to/BiasAnalyzerYAMLBuilder')\n",
    "\n",
    "from pathlib import Path\n",
    "import yaml\n",
    "import os\n",
    "\n",
    "from python_to_YAML import (\n",
    "    CohortYAML, Demographics,\n",
    "    ConditionOccurrence, VisitOccurrence, DateEvent,\n",
    "    AND, OR, BEFORE, NOT\n",
    ")\n",
    "\n",
    "print(\"Imports OK\")"
   ]
  },
  {
   "cell_type": "markdown",
   "id": "a1571a25",
   "metadata": {},
   "source": [
    "## 1) Print the three reference YAML files"
   ]
  },
  {
   "cell_type": "code",
   "execution_count": 6,
   "id": "7b9cd173",
   "metadata": {},
   "outputs": [
    {
     "name": "stdout",
     "output_type": "stream",
     "text": [
      "\n",
      "===== BASELINE (file) =====\n",
      "inclusion_criteria:\n",
      "  demographics:                     # Optional\n",
      "    gender: 'female'                # accepted values: female or male, optional field\n",
      "    min_birth_year: 2000            # Born at the year of 2000 or after, optional field\n",
      "    max_birth_year: 2020            # Born at the year of 2020 or before, optional field\n",
      "\n",
      "\n",
      "===== STUDY (file) =====\n",
      "inclusion_criteria:\n",
      "  demographics:                     # Optional\n",
      "    gender: 'female'                # accepted values: female or male, optional field\n",
      "    min_birth_year: 2000            # Born at the year of 2000 or after, optional field\n",
      "    max_birth_year: 2020            # Born at the year of 2020 or before, optional field\n",
      "  temporal_events:\n",
      "    - operator: 'AND'\n",
      "      events:\n",
      "        - event_type: 'condition_occurrence'\n",
      "          event_concept_id: 37311061 # COVID condition\n",
      "\n",
      "\n",
      "===== STUDY2 (file) =====\n",
      "inclusion_criteria:\n",
      "  demographics:                     # Optional\n",
      "    gender: 'female'                # accepted values: female or male, optional field\n",
      "    min_birth_year: 2000            # Born at the year of 2000 or after, optional field\n",
      "    max_birth_year: 2020            # Born at the year of 2020 or before, optional field\n",
      "  temporal_events:\n",
      "    - operator: 'NOT'\n",
      "      events:\n",
      "        - event_type: 'condition_occurrence'\n",
      "          event_concept_id: 37311061 # COVID condition\n",
      "\n"
     ]
    }
   ],
   "source": [
    "base_dir = Path(os.getcwd())\n",
    "paths = {\n",
    "    'baseline': base_dir / 'test_yaml' / 'test_cohort_creation_condition_occurrence_config_baseline.yaml',\n",
    "    'study':    base_dir / 'test_yaml' / 'test_cohort_creation_condition_occurrence_config_study.yaml',\n",
    "    'study2':   base_dir / 'test_yaml' / 'test_cohort_creation_condition_occurrence_config_study2.yaml',\n",
    "}\n",
    "refs = {}\n",
    "for name, p in paths.items():\n",
    "    text = p.read_text(encoding='utf-8')\n",
    "    obj = yaml.safe_load(text)\n",
    "    refs[name] = {'text': text, 'obj': obj}\n",
    "    print(f\"\\n===== {name.upper()} (file) =====\")\n",
    "    print(text)"
   ]
  },
  {
   "cell_type": "markdown",
   "id": "2847a1d1",
   "metadata": {},
   "source": [
    "## 2) Cohort / YAML builder to reproduce the above cohorts\n",
    "### 2.1 Baseline"
   ]
  },
  {
   "cell_type": "code",
   "execution_count": 10,
   "id": "ba4cb50e",
   "metadata": {},
   "outputs": [
    {
     "name": "stdout",
     "output_type": "stream",
     "text": [
      "inclusion_criteria:\n",
      "  demographics:\n",
      "    gender: 'female'\n",
      "    min_birth_year: 2000\n",
      "    max_birth_year: 2020\n",
      "\n"
     ]
    },
    {
     "data": {
      "text/plain": [
       "PosixPath('baseline_recreated.yaml')"
      ]
     },
     "execution_count": 10,
     "metadata": {},
     "output_type": "execute_result"
    }
   ],
   "source": [
    "\"\"\"\n",
    "Baseline cohort: females born between 2000 and 2020.\n",
    "YAML has only demographics (no temporal_events).\n",
    "\"\"\"\n",
    "\n",
    "# 1) Demographics\n",
    "demo = Demographics(gender=\"female\", min_birth_year=2000, max_birth_year=2020)\n",
    "\n",
    "# 2) Build & print (no file write)\n",
    "cohort = CohortYAML(demographics=demo)\n",
    "print(cohort.to_yaml(sort_keys=False))\n",
    "cohort.save_yaml(\"baseline_recreated.yaml\")\n"
   ]
  },
  {
   "cell_type": "markdown",
   "id": "92e93bb5",
   "metadata": {},
   "source": [
    "### 2.2 Study"
   ]
  },
  {
   "cell_type": "code",
   "execution_count": null,
   "id": "65e93b72",
   "metadata": {},
   "outputs": [
    {
     "name": "stdout",
     "output_type": "stream",
     "text": [
      "inclusion_criteria:\n",
      "  demographics:\n",
      "    gender: 'female'\n",
      "    min_birth_year: 2000\n",
      "    max_birth_year: 2020\n",
      "  temporal_events:\n",
      "  - operator: 'AND'\n",
      "    events:\n",
      "    - event_type: 'condition_occurrence'\n",
      "      event_concept_id: 37311061\n",
      "\n"
     ]
    },
    {
     "data": {
      "text/plain": [
       "PosixPath('study_recreated.yaml')"
      ]
     },
     "execution_count": 14,
     "metadata": {},
     "output_type": "execute_result"
    }
   ],
   "source": [
    "\"\"\"\n",
    "Study cohort: females born 2000–2020 AND a COVID diagnosis.\n",
    "YAML shows a single temporal group with operator 'AND' and ONE leaf event.\n",
    "\"\"\"\n",
    "from python_to_YAML.builder import SingleQuoted\n",
    "\n",
    "# 1) Demographics\n",
    "demo = Demographics(gender=\"female\", min_birth_year=2000, max_birth_year=2020)\n",
    "\n",
    "# 2) Leaf event (COVID condition)\n",
    "covid = ConditionOccurrence(event_concept_id=37311061).to_yaml_event()\n",
    "\n",
    "# 3) Temporal group: AND with a single event\n",
    "group_and_single = {\n",
    "    \"operator\": SingleQuoted(\"AND\"),\n",
    "    \"events\": [covid],\n",
    "}\n",
    "\n",
    "# 4) Build & print\n",
    "cohort = CohortYAML(\n",
    "    demographics=demo,\n",
    "    temporal_blocks=[group_and_single],\n",
    ")\n",
    "print(cohort.to_yaml(sort_keys=False))\n",
    "cohort.save_yaml(\"study_recreated.yaml\")\n"
   ]
  },
  {
   "cell_type": "markdown",
   "id": "471339e7",
   "metadata": {},
   "source": [
    "### 2.3 Study2"
   ]
  },
  {
   "cell_type": "code",
   "execution_count": null,
   "id": "1c7cd4cf",
   "metadata": {},
   "outputs": [
    {
     "name": "stdout",
     "output_type": "stream",
     "text": [
      "inclusion_criteria:\n",
      "  demographics:\n",
      "    gender: 'female'\n",
      "    min_birth_year: 2000\n",
      "    max_birth_year: 2020\n",
      "  temporal_events:\n",
      "  - operator: 'NOT'\n",
      "    events:\n",
      "    - event_type: 'condition_occurrence'\n",
      "      event_concept_id: 37311061\n",
      "\n"
     ]
    },
    {
     "data": {
      "text/plain": [
       "PosixPath('study2_recreated.yaml')"
      ]
     },
     "execution_count": 15,
     "metadata": {},
     "output_type": "execute_result"
    }
   ],
   "source": [
    "\"\"\"\n",
    "Study2 cohort: females born 2000–2020 AND NOT(COVID diagnosis).\n",
    "YAML shows a single temporal group with operator 'NOT' and ONE leaf event.\n",
    "\"\"\"\n",
    "from python_to_YAML.builder import SingleQuoted\n",
    "\n",
    "# 1) Demographics\n",
    "demo = Demographics(gender=\"female\", min_birth_year=2000, max_birth_year=2020)\n",
    "\n",
    "# 2) Leaf event (COVID condition)\n",
    "covid = ConditionOccurrence(event_concept_id=37311061).to_yaml_event()\n",
    "\n",
    "# 3) Temporal group: NOT with a single event\n",
    "group_not_single = {\n",
    "    \"operator\": SingleQuoted(\"NOT\"),\n",
    "    \"events\": [covid],\n",
    "}\n",
    "\n",
    "# 4) Build & print\n",
    "cohort = CohortYAML(\n",
    "    demographics=demo,\n",
    "    temporal_blocks=[group_not_single],\n",
    ")\n",
    "print(cohort.to_yaml(sort_keys=False))\n",
    "cohort.save_yaml(\"study2_recreated.yaml\")\n"
   ]
  }
 ],
 "metadata": {
  "kernelspec": {
   "display_name": "Python 3",
   "language": "python",
   "name": "python3"
  },
  "language_info": {
   "codemirror_mode": {
    "name": "ipython",
    "version": 3
   },
   "file_extension": ".py",
   "mimetype": "text/x-python",
   "name": "python",
   "nbconvert_exporter": "python",
   "pygments_lexer": "ipython3",
   "version": "3.9.11"
  }
 },
 "nbformat": 4,
 "nbformat_minor": 5
}
